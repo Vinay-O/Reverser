{
 "cells": [
  {
   "cell_type": "code",
   "execution_count": null,
   "id": "a6d8cbb8",
   "metadata": {},
   "outputs": [],
   "source": [
    "X = input(\"Enter a word: \")\n",
    "\n",
    "reversed_word = \"\"\n",
    "\n",
    "for char in X:\n",
    "    reversed_word = char + reversed_word\n",
    "\n",
    "print(\"Reversed word:\", reversed_word)\n"
   ]
  }
 ],
 "metadata": {
  "kernelspec": {
   "display_name": "Python 3 (ipykernel)",
   "language": "python",
   "name": "python3"
  },
  "language_info": {
   "codemirror_mode": {
    "name": "ipython",
    "version": 3
   },
   "file_extension": ".py",
   "mimetype": "text/x-python",
   "name": "python",
   "nbconvert_exporter": "python",
   "pygments_lexer": "ipython3",
   "version": "3.10.9"
  }
 },
 "nbformat": 4,
 "nbformat_minor": 5
}
